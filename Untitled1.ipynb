{
 "cells": [
  {
   "cell_type": "code",
   "execution_count": null,
   "id": "332b7227-fedf-4076-b561-3755a3f1e82b",
   "metadata": {},
   "outputs": [],
   "source": [
    "#Assignment 1\n"
   ]
  },
  {
   "cell_type": "code",
   "execution_count": null,
   "id": "a5c71f8a-00ad-4669-8772-3d3e01b8d808",
   "metadata": {},
   "outputs": [],
   "source": [
    "#Q1 Explain the key features of Python that make it a popular choice for Programming\n",
    "\n",
    "# Easy to Read and Write: Python's code looks like regular English, which makes it easier to understand and write.\n",
    "# For example, it uses indentation(spaces) instead of curly braces {} to organize code, making it cleaner and more readable.\n",
    "# Flexible: Python can be used for almost anything, from buildinwebsites to analyzing data. It supports different styles of programming, so you can use it in the way that best suits your project.\n",
    "# Lots of Tools: Python has manypre-made tools (libraries and frameworks) that help you do complex tasks without having to build everything from scratch.\n",
    "# For example, if you want to create awebsite, you can use Django or Flask. #Works Everywhere: \n",
    "# Helpful Community: There’s a huge community of Python users who share theirknowledge, create helpful tutorials, and build useful tools.\n",
    "# If you have a question or run into a problem, chances are someone has already figured it out.\n",
    "# CanTalk to Other Languages: Python can work with other programming languages like C or C++. This is useful if you need to use Python for some parts of a projectbut need other languages for others.\n",
    "# Great for Beginners: Python’s simple syntax makes it a good starting point for people who are new to programming. Itallows beginners to learn the basics without getting bogged down by complex rules.\n",
    "# Automatic Type Handling: Python automatically figures out what kind ofdata you’re using (like numbers or text) so you don’t have to specify it. This can make coding faster and easier, though you need to be careful to avoid mistakes.\n",
    "# Run Code Instantly: Python lets you test your code as you write it without needing to compile it first. This means you can quickly see if your code works or needs fixing.\n",
    "# Popular for Data Science: Python is widely used for analyzing data and building machine learning models. With tools like Pandas and TensorFlow,it’s become a top choice for data scientists and engineers.\n",
    "# In short, Python is popular because it’s easy to learn, versatile, and has a lot of support, making it a great choice for many different types of programming projects.\n"
   ]
  },
  {
   "cell_type": "code",
   "execution_count": null,
   "id": "22a54c1b-6c27-4b14-a089-06128c3c46f8",
   "metadata": {},
   "outputs": [],
   "source": [
    "#Q2 Desccibe the role of predefined keywords in Python and provide examples of how they are used in a program\n",
    "\n",
    "# Keywords are reserved words in Python that have special meanings and cannot be used as identifiers (variable names, function names, etc.). \n",
    "# Examples of keywords include if, else, while, for, def, class, import, try, except, return, True, False, None, etc.\n",
    "# Keywords are case-sensitive and cannot be redefined or overridden within a Python program.\n"
   ]
  },
  {
   "cell_type": "code",
   "execution_count": 1,
   "id": "a3386d8d-f918-4372-8461-b3debba056e7",
   "metadata": {},
   "outputs": [
    {
     "name": "stdin",
     "output_type": "stream",
     "text": [
      " What is your Score ?\n",
      " 32\n"
     ]
    },
    {
     "name": "stdout",
     "output_type": "stream",
     "text": [
      "Congratulation you have passed the assignment\n"
     ]
    }
   ],
   "source": [
    "# if/else statement\n",
    "\n",
    "Name =  \"Shivam\"\n",
    "Score = int(input(\" What is your Score ?\\n\"))\n",
    "if Score >= 30:\n",
    "    print(\"Congratulation you have passed the assignment\")\n",
    "else:\n",
    "    print(\" We are sorry but you have failed the assignment\")\n"
   ]
  },
  {
   "cell_type": "code",
   "execution_count": null,
   "id": "95883797-9010-418c-8349-8ea95dbcf05f",
   "metadata": {},
   "outputs": [],
   "source": []
  }
 ],
 "metadata": {
  "kernelspec": {
   "display_name": "Python 3 (ipykernel)",
   "language": "python",
   "name": "python3"
  },
  "language_info": {
   "codemirror_mode": {
    "name": "ipython",
    "version": 3
   },
   "file_extension": ".py",
   "mimetype": "text/x-python",
   "name": "python",
   "nbconvert_exporter": "python",
   "pygments_lexer": "ipython3",
   "version": "3.10.8"
  }
 },
 "nbformat": 4,
 "nbformat_minor": 5
}
