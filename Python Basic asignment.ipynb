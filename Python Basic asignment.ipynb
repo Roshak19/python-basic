{
 "cells": [
  {
   "cell_type": "code",
   "execution_count": 1,
   "id": "8eb7ad3d-6d71-4726-a598-2efbb4ec8845",
   "metadata": {},
   "outputs": [],
   "source": [
    "#Assignment 1\n"
   ]
  },
  {
   "cell_type": "code",
   "execution_count": 2,
   "id": "2ff5f603-c350-42e3-a32e-a03c5c641387",
   "metadata": {},
   "outputs": [],
   "source": [
    "#Q1 Explain the key features of Python that make it a popular choice for Programming\n",
    "\n",
    "# Easy to Read and Write: Python's code looks like regular English, which makes it easier to understand and write.\n",
    "# For example, it uses indentation(spaces) instead of curly braces {} to organize code, making it cleaner and more readable.\n",
    "# Flexible: Python can be used for almost anything, from buildinwebsites to analyzing data. It supports different styles of programming, so you can use it in the way that best suits your project.\n",
    "# Lots of Tools: Python has manypre-made tools (libraries and frameworks) that help you do complex tasks without having to build everything from scratch.\n",
    "# For example, if you want to create awebsite, you can use Django or Flask. #Works Everywhere: \n",
    "# Helpful Community: There’s a huge community of Python users who share theirknowledge, create helpful tutorials, and build useful tools.\n",
    "# If you have a question or run into a problem, chances are someone has already figured it out.\n",
    "# CanTalk to Other Languages: Python can work with other programming languages like C or C++. This is useful if you need to use Python for some parts of a projectbut need other languages for others.\n",
    "# Great for Beginners: Python’s simple syntax makes it a good starting point for people who are new to programming. Itallows beginners to learn the basics without getting bogged down by complex rules.\n",
    "# Automatic Type Handling: Python automatically figures out what kind ofdata you’re using (like numbers or text) so you don’t have to specify it. This can make coding faster and easier, though you need to be careful to avoid mistakes.\n",
    "# Run Code Instantly: Python lets you test your code as you write it without needing to compile it first. This means you can quickly see if your code works or needs fixing.\n",
    "# Popular for Data Science: Python is widely used for analyzing data and building machine learning models. With tools like Pandas and TensorFlow,it’s become a top choice for data scientists and engineers.\n",
    "# In short, Python is popular because it’s easy to learn, versatile, and has a lot of support, making it a great choice for many different types of programming projects.\n"
   ]
  },
  {
   "cell_type": "code",
   "execution_count": 3,
   "id": "1109db50-899f-4037-baa3-6b6c07050db1",
   "metadata": {},
   "outputs": [],
   "source": [
    "#Q2 Desccibe the role of predefined keywords in Python and provide examples of how they are used in a program\n",
    "\n",
    "# Keywords are reserved words in Python that have special meanings and cannot be used as identifiers (variable names, function names, etc.). \n",
    "# Examples of keywords include if, else, while, for, def, class, import, try, except, return, True, False, None, etc.\n",
    "# Keywords are case-sensitive and cannot be redefined or overridden within a Python program.\n"
   ]
  },
  {
   "cell_type": "code",
   "execution_count": 4,
   "id": "63bacbad-96b6-4301-b50a-1f73fee58e59",
   "metadata": {},
   "outputs": [
    {
     "name": "stdin",
     "output_type": "stream",
     "text": [
      " What is your Score ?\n",
      " 32\n"
     ]
    },
    {
     "name": "stdout",
     "output_type": "stream",
     "text": [
      "Congratulation you have passed the assignment\n"
     ]
    }
   ],
   "source": [
    "# if/else statement\n",
    "\n",
    "Name =  \"Shivam\"\n",
    "Score = int(input(\" What is your Score ?\\n\"))\n",
    "if Score >= 30:\n",
    "    print(\"Congratulation you have passed the assignment\")\n",
    "else:\n",
    "    print(\" We are sorry but you have failed the assignment\")\n"
   ]
  },
  {
   "cell_type": "code",
   "execution_count": 5,
   "id": "aa03633b-65da-453a-a5e9-a237eadf2c49",
   "metadata": {},
   "outputs": [
    {
     "name": "stdout",
     "output_type": "stream",
     "text": [
      "Your BMI is 24.84: Normal weight.\n"
     ]
    }
   ],
   "source": [
    "#(if/elif): used for multiple condition \n",
    "\n",
    "\n",
    "height = 1.85\n",
    "weight = 85\n",
    "\n",
    "bmi = round(weight / (height ** 2), 2)\n",
    "\n",
    "if bmi < 18.5:\n",
    "    print(f\"Your BMI is {bmi}: underweight.\")\n",
    "elif bmi >= 18.5 and bmi < 25:\n",
    "    print(f\"Your BMI is {bmi}: Normal weight.\")\n",
    "else:\n",
    "    print(f\"Your BMI is {bmi}: overweight.\")"
   ]
  },
  {
   "cell_type": "code",
   "execution_count": 6,
   "id": "31e95fd9-ee11-4e59-81b0-b31215e81738",
   "metadata": {},
   "outputs": [
    {
     "name": "stdout",
     "output_type": "stream",
     "text": [
      " Welcome to the PWSkills Rollercoaster \n"
     ]
    },
    {
     "name": "stdin",
     "output_type": "stream",
     "text": [
      "What is your height in cm ?  190\n"
     ]
    },
    {
     "name": "stdout",
     "output_type": "stream",
     "text": [
      "You are eligible for a roller coaster ride.\n"
     ]
    },
    {
     "name": "stdin",
     "output_type": "stream",
     "text": [
      "What is your age ?  25\n"
     ]
    },
    {
     "name": "stdout",
     "output_type": "stream",
     "text": [
      "Adult ticket will be 200 rs\n"
     ]
    },
    {
     "name": "stdin",
     "output_type": "stream",
     "text": [
      "Would you like to have your picture taken.\n",
      "  Y for yes and N for no  Y\n"
     ]
    },
    {
     "name": "stdout",
     "output_type": "stream",
     "text": [
      "Your total amount will be 250 Rs\n"
     ]
    }
   ],
   "source": [
    "# nested if\n",
    "\n",
    "print(\" Welcome to the PWSkills Rollercoaster \")\n",
    "height = float(input(\"What is your height in cm ? \"))\n",
    "bill = 0\n",
    "if height > 150:\n",
    "    print(\"You are eligible for a roller coaster ride.\")\n",
    "    age = int(input(\"What is your age ? \"))\n",
    "    if age <=12:\n",
    "        bill = 100\n",
    "        print(\"Children ticket will be 100 rs\")\n",
    "    elif age <= 18:\n",
    "            bill = 150\n",
    "            print(\"Youngster ticket will 150 rs\")\n",
    "    else:\n",
    "        bill = 200\n",
    "        print(\"Adult ticket will be 200 rs\")\n",
    "    photo_click = input(\"Would you like to have your picture taken.\\n  Y for yes and N for no \")\n",
    "    if photo_click == \"Y\":\n",
    "         bill+= 50\n",
    "         print( f\"Your total amount will be {bill} Rs\")\n",
    "    else:\n",
    "            bill+=0\n",
    "            print(f\"Your total amount will be {bill} Rs\")\n",
    "else:\n",
    "    print(\"Sorry but you are not eligible for a roller coaster ride.\")\n"
   ]
  },
  {
   "cell_type": "code",
   "execution_count": 7,
   "id": "410b4290-4d98-4845-bc3b-1532239c3b86",
   "metadata": {},
   "outputs": [
    {
     "name": "stdout",
     "output_type": "stream",
     "text": [
      "1\n",
      "2\n",
      "3\n",
      "4\n",
      "5\n",
      "6\n",
      "7\n",
      " i is succesfully executed and is now equal to 7\n"
     ]
    }
   ],
   "source": [
    "# while loop statement - It allow us to execute a block of code repeatedly\n",
    "\n",
    "n = 7\n",
    "i = 1\n",
    "while i <= 7:\n",
    "    print(i)\n",
    "    i+= 1\n",
    "else:\n",
    "    print(\" i is succesfully executed and is now equal to 7\")"
   ]
  },
  {
   "cell_type": "code",
   "execution_count": 8,
   "id": "b59ac2aa-4ac4-4a5a-8a9a-1f91a833201a",
   "metadata": {},
   "outputs": [
    {
     "name": "stdout",
     "output_type": "stream",
     "text": [
      "0\n",
      "5\n",
      "10\n",
      "15\n"
     ]
    }
   ],
   "source": [
    "# for statement \n",
    "n = list(range(0,20 ,5)) #0-20 is the range and 5 is the gap in between\n",
    "for i in n:\n",
    "    print (i)"
   ]
  },
  {
   "cell_type": "code",
   "execution_count": 9,
   "id": "f59b547e-856e-4fee-8da1-7c0a399d2e25",
   "metadata": {},
   "outputs": [],
   "source": [
    "#Q3 Compare and contrast mutable and immutable objects in Python with examples\n",
    "\n",
    "# In Python, objects can be either changeable (modifiable) or unchangeable (unchangeable). \n",
    "# Mutable objects, such as lists and dictionaries, can be modified after creation, while immutable objects, such as tuples and strings, cannot. \n",
    "# Mutability affects how objects are stored and manipulated in memory, impacting performance, memory usage, and concurrency in Python programs. "
   ]
  },
  {
   "cell_type": "code",
   "execution_count": 12,
   "id": "ab17af73-f10f-430a-a3c8-7abc021585e0",
   "metadata": {},
   "outputs": [
    {
     "name": "stdout",
     "output_type": "stream",
     "text": [
      "[1, 2, 5, 7, 'Rana']\n"
     ]
    }
   ],
   "source": [
    "# mutable example\n",
    "\n",
    "letter =  [ 1,2,5,7,\"Shivam\"]\n",
    "letter[4] = \"Rana\"\n",
    "print(letter)"
   ]
  },
  {
   "cell_type": "code",
   "execution_count": 11,
   "id": "c2c477b4-2b13-4d5f-a05e-ded993247592",
   "metadata": {},
   "outputs": [
    {
     "ename": "TypeError",
     "evalue": "'str' object does not support item assignment",
     "output_type": "error",
     "traceback": [
      "\u001b[0;31m---------------------------------------------------------------------------\u001b[0m",
      "\u001b[0;31mTypeError\u001b[0m                                 Traceback (most recent call last)",
      "Cell \u001b[0;32mIn[11], line 4\u001b[0m\n\u001b[1;32m      1\u001b[0m \u001b[38;5;66;03m#example of immutability which cannot be changed\u001b[39;00m\n\u001b[1;32m      3\u001b[0m letter \u001b[38;5;241m=\u001b[39m \u001b[38;5;124m\"\u001b[39m\u001b[38;5;124mAwesomness\u001b[39m\u001b[38;5;124m\"\u001b[39m\n\u001b[0;32m----> 4\u001b[0m \u001b[43mletter\u001b[49m\u001b[43m[\u001b[49m\u001b[38;5;241;43m2\u001b[39;49m\u001b[43m]\u001b[49m \u001b[38;5;241m=\u001b[39m \u001b[38;5;124m\"\u001b[39m\u001b[38;5;124mn\u001b[39m\u001b[38;5;124m\"\u001b[39m\n",
      "\u001b[0;31mTypeError\u001b[0m: 'str' object does not support item assignment"
     ]
    }
   ],
   "source": [
    "#example of immutability which cannot be changed\n",
    "\n",
    "letter = \"Awesomness\"\n",
    "letter[2] = \"n\""
   ]
  },
  {
   "cell_type": "code",
   "execution_count": null,
   "id": "0a85458a-dc6b-4cfe-a61b-7bf6f34b966c",
   "metadata": {},
   "outputs": [],
   "source": [
    "#Q4 Discuss the different types of operators in Python and provide examples of how they are used\n",
    "\n",
    "# Operators are special symbols or keywords that are used to carry out specific actions on numbers or variables in Python expressions. \n",
    "# Python supports various types of operators, including arithmetic operators (+, -, *, /), comparison operators (==, !=, <, >), logical operators (and, or, not), assignment operators (=, +=, -=, *=, /=), etc.\n",
    "# Operators have precedence and associativity rules that determine the order of evaluation in expressions."
   ]
  },
  {
   "cell_type": "code",
   "execution_count": 13,
   "id": "d56ba9b6-39b9-41e8-a830-7bf3bcb71782",
   "metadata": {},
   "outputs": [
    {
     "name": "stdout",
     "output_type": "stream",
     "text": [
      "12\n",
      "35\n",
      "-2\n",
      "0.7142857142857143\n",
      "0\n"
     ]
    }
   ],
   "source": [
    "# example of arithmetic operators\n",
    "a=5\n",
    "b=7\n",
    "print(a+b)\n",
    "print(a*b)\n",
    "print(a-b)\n",
    "print(a/b)\n",
    "print(a//b)"
   ]
  },
  {
   "cell_type": "code",
   "execution_count": 14,
   "id": "0f5475fc-5216-48c9-9bb4-dfb715198ef5",
   "metadata": {},
   "outputs": [
    {
     "name": "stdout",
     "output_type": "stream",
     "text": [
      "True\n",
      "False\n",
      "False\n",
      "False\n",
      "True\n",
      "True\n"
     ]
    }
   ],
   "source": [
    "# comparison operator examples\n",
    "x = 5\n",
    "y = 5\n",
    "print(x == y)\n",
    "print(x != y)\n",
    "print(x > y)\n",
    "print(x < y)\n",
    "print(x >= y)\n",
    "print(x <= y)\n",
    "\n",
    "\n",
    "\n"
   ]
  },
  {
   "cell_type": "code",
   "execution_count": 15,
   "id": "a07f19d2-f8f7-46b7-a414-678e5960ec12",
   "metadata": {},
   "outputs": [
    {
     "name": "stdout",
     "output_type": "stream",
     "text": [
      "True\n"
     ]
    }
   ],
   "source": [
    "# logical operator \n",
    "# and statement example in this both the statement should be true to achieve right statement.\n",
    "# if one statemnt is false then the result will be false\n",
    "\n",
    "a=7\n",
    "b=10\n",
    "c = a<b and b>a\n",
    "print(c)\n"
   ]
  },
  {
   "cell_type": "code",
   "execution_count": 16,
   "id": "2a311081-a0e3-4878-932e-8ec0fa9c4845",
   "metadata": {},
   "outputs": [
    {
     "name": "stdout",
     "output_type": "stream",
     "text": [
      "False\n"
     ]
    }
   ],
   "source": [
    "a=7\n",
    "b=10\n",
    "c = a>b and b>a\n",
    "print(c)"
   ]
  },
  {
   "cell_type": "code",
   "execution_count": 17,
   "id": "8e4357d5-cc60-496e-baae-baca27d5b15a",
   "metadata": {},
   "outputs": [
    {
     "name": "stdout",
     "output_type": "stream",
     "text": [
      "True\n"
     ]
    }
   ],
   "source": [
    "# logical operator\n",
    "# or statement in this one statement should be true to achieve True and to achieve false both satement should be false.\n",
    "\n",
    "a=7\n",
    "b=10\n",
    "c = a>b or b>a\n",
    "print(c)"
   ]
  },
  {
   "cell_type": "code",
   "execution_count": 18,
   "id": "cd53784a-ce1f-4dd2-afca-669016487b5d",
   "metadata": {},
   "outputs": [
    {
     "name": "stdout",
     "output_type": "stream",
     "text": [
      "False\n"
     ]
    }
   ],
   "source": [
    "a=7\n",
    "b=10\n",
    "c = a>b and b<a\n",
    "print(c)"
   ]
  },
  {
   "cell_type": "code",
   "execution_count": 19,
   "id": "103c4396-c6ac-44d5-b215-037d97b8c9b6",
   "metadata": {},
   "outputs": [
    {
     "name": "stdout",
     "output_type": "stream",
     "text": [
      "5\n",
      "7\n",
      "2\n",
      "-8\n",
      "28\n",
      "1\n"
     ]
    }
   ],
   "source": [
    "# Bitwise operators\n",
    "\n",
    "# These operations work on binary representations of integers. \n",
    "# Bitwise AND (&): Performs AND operation on bits. Bitwise OR (|): Performs OR operation on bits. Bitwise XOR (^): Performs XOR operation on bits.\n",
    "# Bitwise NOT (~): Inverts bits (one's complement). Left Shift (<<): Shifts bits to the left. Right Shift (>>): Shifts bits to the right.\n",
    "\n",
    "a = 7\n",
    "b = 5\n",
    "print(a & b)\n",
    "print(a | b)\n",
    "print(a ^ b)\n",
    "print(~a)\n",
    "print(a << 2)\n",
    "print(a >> 2)\n"
   ]
  },
  {
   "cell_type": "code",
   "execution_count": 20,
   "id": "78c5feda-06db-42b7-82b6-d7471eaf35ef",
   "metadata": {},
   "outputs": [],
   "source": [
    "# Assignment Operations \n",
    "\n",
    "# These operations assign values to variables. Assignment (=): Assigns a value to a variable.\n",
    "# Addition Assignment (+=): Adds a value to the variable and assigns the result. Subtraction Assignment (-=): Subtracts a value from the variable and assigns the result.\n",
    "# Multiplication Assignment (*=): Multiplies the variable by a value and assigns the result. Division Assignment (/=): Divides the variable by a value and assigns the result.\n",
    "# Modulus Assignment (%=): Applies modulus and assigns the result.\n",
    "# Exponentiation Assignment (**=): Raises the variable to the power of a value and assigns the result."
   ]
  },
  {
   "cell_type": "code",
   "execution_count": 21,
   "id": "e2e41f5c-5dd8-48ae-8a1c-8e6853044b06",
   "metadata": {},
   "outputs": [
    {
     "name": "stdout",
     "output_type": "stream",
     "text": [
      "12\n",
      "9\n",
      "18\n",
      "4.5\n",
      "0.5\n",
      "0.125\n"
     ]
    }
   ],
   "source": [
    "num = 7\n",
    "num += 5\n",
    "print(num)\n",
    "num -= 3\n",
    "print(num)\n",
    "num *= 2\n",
    "print(num)\n",
    "num /= 4\n",
    "print(num)\n",
    "num %= 2\n",
    "print(num)\n",
    "num **= 3\n",
    "print(num) "
   ]
  },
  {
   "cell_type": "code",
   "execution_count": 22,
   "id": "8f624784-34a0-438a-bebc-474dc13931b7",
   "metadata": {},
   "outputs": [
    {
     "name": "stdout",
     "output_type": "stream",
     "text": [
      "False\n",
      "False\n",
      "True\n",
      "True\n",
      "Now we assign them in same container\n",
      "True\n",
      "True\n",
      "False\n",
      "False\n"
     ]
    }
   ],
   "source": [
    "# Identity Operations \n",
    "# These check if two variables refer to the same object in memory\n",
    "\n",
    "Shivam = 26\n",
    "Rana = 38\n",
    "print(Shivam is Rana)\n",
    "print(Rana is Shivam)\n",
    "print(Shivam is not Rana)\n",
    "print(Rana is not Shivam)\n",
    "\n",
    "# the statement comes false because they were in different container but when we assign\n",
    "print(\"Now we assign them in same container\")\n",
    "Shivam = 26\n",
    "Rana = Shivam\n",
    "print(Shivam is Rana)\n",
    "print(Rana is Shivam)\n",
    "print(Shivam is not Rana)\n",
    "print(Rana is not Shivam)\n",
    "# now the values are true because they are in same container"
   ]
  },
  {
   "cell_type": "code",
   "execution_count": 23,
   "id": "9e443e22-1843-42bb-8230-b798fee6d9c4",
   "metadata": {},
   "outputs": [],
   "source": [
    "#Q5 Explain the concept of type casting in Python with examples\n",
    "\n",
    "# Type casting in Python is a way of converting a value from one data type to another.\n",
    "# It's like changing the form of the value so that it can be used in different ways"
   ]
  },
  {
   "cell_type": "code",
   "execution_count": 24,
   "id": "0f605888-63bd-476c-ad0c-08334bff62d1",
   "metadata": {},
   "outputs": [
    {
     "name": "stdout",
     "output_type": "stream",
     "text": [
      "<class 'float'>\n",
      "3\n",
      "<class 'int'>\n"
     ]
    }
   ],
   "source": [
    "number = 3.0\n",
    "print(type(number))\n",
    "change = int(number)\n",
    "print(change)\n",
    "print(type(change))"
   ]
  },
  {
   "cell_type": "code",
   "execution_count": 25,
   "id": "e0a4b223-7258-4363-af0f-2d6bae564514",
   "metadata": {},
   "outputs": [
    {
     "name": "stdout",
     "output_type": "stream",
     "text": [
      "<class 'float'>\n",
      "3.0\n",
      "<class 'str'>\n"
     ]
    }
   ],
   "source": [
    "# float to string\n",
    "\n",
    "number = 3.0\n",
    "print(type(number))\n",
    "change = str(number)\n",
    "print(change)\n",
    "print(type(change))"
   ]
  },
  {
   "cell_type": "code",
   "execution_count": 26,
   "id": "e6968c48-f264-44a6-a85d-75cbac81f86b",
   "metadata": {},
   "outputs": [
    {
     "name": "stdout",
     "output_type": "stream",
     "text": [
      "<class 'int'>\n",
      "True\n",
      "<class 'bool'>\n"
     ]
    }
   ],
   "source": [
    "# int to boolean\n",
    "number = 3\n",
    "print(type(number))\n",
    "change = bool(number)\n",
    "print(change)\n",
    "print(type(change))"
   ]
  },
  {
   "cell_type": "code",
   "execution_count": 27,
   "id": "356d4d83-b11a-44df-8a61-dfbe15dd9530",
   "metadata": {},
   "outputs": [
    {
     "name": "stdout",
     "output_type": "stream",
     "text": [
      "<class 'str'>\n"
     ]
    },
    {
     "ename": "ValueError",
     "evalue": "invalid literal for int() with base 10: 'Shivam'",
     "output_type": "error",
     "traceback": [
      "\u001b[0;31m---------------------------------------------------------------------------\u001b[0m",
      "\u001b[0;31mValueError\u001b[0m                                Traceback (most recent call last)",
      "Cell \u001b[0;32mIn[27], line 4\u001b[0m\n\u001b[1;32m      2\u001b[0m name \u001b[38;5;241m=\u001b[39m \u001b[38;5;124m\"\u001b[39m\u001b[38;5;124mShivam\u001b[39m\u001b[38;5;124m\"\u001b[39m\n\u001b[1;32m      3\u001b[0m \u001b[38;5;28mprint\u001b[39m(\u001b[38;5;28mtype\u001b[39m(name))\n\u001b[0;32m----> 4\u001b[0m change \u001b[38;5;241m=\u001b[39m \u001b[38;5;28;43mint\u001b[39;49m\u001b[43m(\u001b[49m\u001b[43mname\u001b[49m\u001b[43m)\u001b[49m\n\u001b[1;32m      5\u001b[0m \u001b[38;5;28mprint\u001b[39m(change)\n",
      "\u001b[0;31mValueError\u001b[0m: invalid literal for int() with base 10: 'Shivam'"
     ]
    }
   ],
   "source": [
    "# Attempting to convert the string \"Shivam\" to an integer will raise a ValueError\n",
    "name = \"Shivam\"\n",
    "print(type(name))\n",
    "change = int(name)\n",
    "print(change)"
   ]
  },
  {
   "cell_type": "code",
   "execution_count": 29,
   "id": "b85ad354-6d3a-4a19-b66e-d21d24c3bbce",
   "metadata": {},
   "outputs": [
    {
     "name": "stdout",
     "output_type": "stream",
     "text": [
      "<class 'str'>\n",
      "['S', 'h', 'i', 'v', 'a', 'm']\n",
      "<class 'list'>\n"
     ]
    }
   ],
   "source": [
    "name = \"Shivam\"\n",
    "print(type(name)) \n",
    "change = list(name)\n",
    "print(change)\n",
    "print(type(change))"
   ]
  },
  {
   "cell_type": "code",
   "execution_count": null,
   "id": "2eca8577-2215-45c6-8d0f-9dd9898f7aef",
   "metadata": {},
   "outputs": [],
   "source": [
    "#Q6 How do conditional statements work in Python? Illustrate with examples\n",
    "\n",
    "# Conditional statements in Python allow you to execute certain blocks of code based on whether a condition is true or false.\n",
    "# They are crucial for controlling the flow of your program\n"
   ]
  },
  {
   "cell_type": "code",
   "execution_count": 30,
   "id": "348c66e5-f235-4ffe-9d90-a549c9e8aa97",
   "metadata": {},
   "outputs": [
    {
     "name": "stdout",
     "output_type": "stream",
     "text": [
      "Welcome to Python Pizza Deliveries!\n"
     ]
    },
    {
     "name": "stdin",
     "output_type": "stream",
     "text": [
      "What size pizza do you want? S, M or L:  L\n",
      "Do you want pepperoni on your pizza? Y or N:  Y\n",
      "Do you want extra cheese? Y or N:  N\n"
     ]
    },
    {
     "name": "stdout",
     "output_type": "stream",
     "text": [
      "Your final bill is: Rs310.\n"
     ]
    }
   ],
   "source": [
    "# example (containing if/elif/nested if statement)\n",
    "\n",
    "print(\"Welcome to Python Pizza Deliveries!\")\n",
    "bill = 0\n",
    "size = input(\"What size pizza do you want? S, M or L: \")\n",
    "if size == \"S\":\n",
    "    bill = 100\n",
    "elif size == \"M\":\n",
    "    bill = 150\n",
    "elif size == \"L\":\n",
    "    bill = 250\n",
    "else:\n",
    "    print(\" you type wrong keyword\")\n",
    "pepperoni = input(\"Do you want pepperoni on your pizza? Y or N: \")\n",
    "if pepperoni == \"Y\":\n",
    "    if size == \"S\":\n",
    "        bill += 50\n",
    "    else:\n",
    "        bill += 60\n",
    "extra_cheese = input(\"Do you want extra cheese? Y or N: \")\n",
    "if extra_cheese == \"Y\":\n",
    "    bill+=40\n",
    "print(f\"Your final bill is: Rs{bill}.\")\n"
   ]
  },
  {
   "cell_type": "code",
   "execution_count": null,
   "id": "604311f1-2122-46d7-a4bc-0c47130c907a",
   "metadata": {},
   "outputs": [],
   "source": [
    "# Describe the different types of loops in Python and their use cases with examples\n",
    "\n",
    "# In Python, loops are employed to repeat a sequence of actions or code until a specific condition is fulfilled. \n",
    "# Python offers two primary types of loops: for loops and while loops. \n",
    "# “for” loops are used for iterating over a sequence of elements, \n",
    "# while “while” loops are used for executing code until a specified condition becomes False"
   ]
  },
  {
   "cell_type": "code",
   "execution_count": 31,
   "id": "644003c8-3b44-4332-ac17-93744da18424",
   "metadata": {},
   "outputs": [
    {
     "name": "stdout",
     "output_type": "stream",
     "text": [
      "Luffy\n",
      "Naruto\n",
      "Ichigo\n"
     ]
    }
   ],
   "source": [
    "#a. Iterating Over a List:\n",
    "Mates = ['Luffy', 'Naruto', 'Ichigo']\n",
    "for Mates in Mates:\n",
    " print(Mates)"
   ]
  },
  {
   "cell_type": "code",
   "execution_count": 32,
   "id": "d2a9c1e9-4d7c-48d6-91a8-28d477c46799",
   "metadata": {},
   "outputs": [
    {
     "name": "stdout",
     "output_type": "stream",
     "text": [
      "0\n",
      "2\n",
      "4\n",
      "6\n",
      "8\n"
     ]
    }
   ],
   "source": [
    "#b. Iterating Over a Range\n",
    "for i in range(0,10, 2):# 0,10 is a range while 2 is interval \n",
    " print(i)"
   ]
  },
  {
   "cell_type": "code",
   "execution_count": 36,
   "id": "ab0d7737-3c3c-440e-ad87-9064e7470b5b",
   "metadata": {},
   "outputs": [
    {
     "name": "stdout",
     "output_type": "stream",
     "text": [
      "M o n k e y   D   L u f f y "
     ]
    }
   ],
   "source": [
    "#c. Iterating Over a String:\n",
    "for char in \"Monkey D Luffy\":\n",
    " print(char,end=\" \")#end=\" \" without this letters would be written vertically."
   ]
  },
  {
   "cell_type": "code",
   "execution_count": 43,
   "id": "3ccd6a11-cb39-404c-b52e-313147d94175",
   "metadata": {},
   "outputs": [
    {
     "name": "stdout",
     "output_type": "stream",
     "text": [
      "0\n",
      "1\n",
      "2\n",
      "3\n",
      "4\n",
      "5\n",
      "6\n",
      "7\n"
     ]
    }
   ],
   "source": [
    "#a. Basic while Loop:\n",
    "count = 0\n",
    "while count < 8:\n",
    " print(count)\n",
    " count += 1"
   ]
  },
  {
   "cell_type": "code",
   "execution_count": 52,
   "id": "4a113376-36b8-4e00-80b7-64cb3023aa11",
   "metadata": {},
   "outputs": [
    {
     "name": "stdout",
     "output_type": "stream",
     "text": [
      "shivam is a rockstar\n"
     ]
    }
   ],
   "source": [
    "# for infinite loop\n",
    "\n",
    "while True:\n",
    "    print(\"shivam is a rockstar\")# this will create an infinite loop of the statement\n",
    "    break"
   ]
  },
  {
   "cell_type": "code",
   "execution_count": 58,
   "id": "3502c2b3-5928-40ec-a47a-0499b551382c",
   "metadata": {},
   "outputs": [
    {
     "name": "stdout",
     "output_type": "stream",
     "text": [
      "0\n",
      "1\n",
      "2\n",
      "3\n",
      "4\n",
      "5\n",
      "6\n"
     ]
    }
   ],
   "source": [
    "#3. break Statement\n",
    "#The break statement is used to exit the loop prematurely, regardless of the loop's condition. It can be used in both for and\n",
    "for i in range(10):\n",
    "    if i == 7:\n",
    "        break\n",
    "    print(i)"
   ]
  },
  {
   "cell_type": "code",
   "execution_count": 64,
   "id": "53a171a5-c155-4827-a777-763f144853aa",
   "metadata": {},
   "outputs": [
    {
     "name": "stdout",
     "output_type": "stream",
     "text": [
      "0\n",
      "1\n",
      "3\n",
      "4\n"
     ]
    }
   ],
   "source": [
    "#4. continue Statement\n",
    "#The continue statement skips the rest of the code inside the current iteration and moves to the next iteration of the loop.\n",
    "#It can be used to skip certain conditions within a loop\n",
    "for i in range(5):\n",
    "    if i == 2:\n",
    "        continue\n",
    "    print(i)"
   ]
  },
  {
   "cell_type": "code",
   "execution_count": 74,
   "id": "12e30211-0030-4aa3-a0f9-4a28b69201cb",
   "metadata": {},
   "outputs": [
    {
     "name": "stdout",
     "output_type": "stream",
     "text": [
      "0\n",
      "1\n",
      "2\n",
      "Loop finished without break\n"
     ]
    }
   ],
   "source": [
    "#5. else Clause in Loops\n",
    "#Both for and while loops can have an else clause that is executed after the loop has finished running,\n",
    "#provided that the loop wasn’t terminated by a break statement.\n",
    "for i in range(3):\n",
    "    print(i)\n",
    "else:\n",
    "    print(\"Loop finished without break\")\n"
   ]
  },
  {
   "cell_type": "code",
   "execution_count": null,
   "id": "9a271087-5692-4b32-a40f-08965f7cbdb8",
   "metadata": {},
   "outputs": [],
   "source": []
  }
 ],
 "metadata": {
  "kernelspec": {
   "display_name": "Python 3 (ipykernel)",
   "language": "python",
   "name": "python3"
  },
  "language_info": {
   "codemirror_mode": {
    "name": "ipython",
    "version": 3
   },
   "file_extension": ".py",
   "mimetype": "text/x-python",
   "name": "python",
   "nbconvert_exporter": "python",
   "pygments_lexer": "ipython3",
   "version": "3.10.8"
  }
 },
 "nbformat": 4,
 "nbformat_minor": 5
}
